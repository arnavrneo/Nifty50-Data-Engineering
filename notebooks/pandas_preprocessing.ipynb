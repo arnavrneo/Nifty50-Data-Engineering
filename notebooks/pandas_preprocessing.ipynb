{
 "cells": [
  {
   "cell_type": "code",
   "execution_count": 9,
   "metadata": {},
   "outputs": [],
   "source": [
    "import pandas as pd"
   ]
  },
  {
   "cell_type": "code",
   "execution_count": 10,
   "metadata": {},
   "outputs": [],
   "source": [
    "sec_arch = pd.read_csv(\"../files/sec_archives.csv\")\n",
    "block_deals_arch = pd.read_csv(\"../files/block_deals_archives.csv\")\n",
    "bulk_deals_arch = pd.read_csv(\"../files/bulk_deals_archives.csv\")\n",
    "monthly_adv_dec = pd.read_csv(\"../files/monthly_adv_declines.csv\")\n",
    "nse_ratios = pd.read_csv(\"../files/nse_ratios.csv\")\n",
    "short_selling_arch = pd.read_csv(\"../files/short_selling_archives.csv\")\n",
    "board_meetings = pd.read_csv(\"../files/board_meetings.csv\")"
   ]
  },
  {
   "cell_type": "markdown",
   "metadata": {},
   "source": [
    "### Checking for missing values"
   ]
  },
  {
   "cell_type": "code",
   "execution_count": 11,
   "metadata": {},
   "outputs": [
    {
     "data": {
      "text/html": [
       "<div>\n",
       "<style scoped>\n",
       "    .dataframe tbody tr th:only-of-type {\n",
       "        vertical-align: middle;\n",
       "    }\n",
       "\n",
       "    .dataframe tbody tr th {\n",
       "        vertical-align: top;\n",
       "    }\n",
       "\n",
       "    .dataframe thead th {\n",
       "        text-align: right;\n",
       "    }\n",
       "</style>\n",
       "<table border=\"1\" class=\"dataframe\">\n",
       "  <thead>\n",
       "    <tr style=\"text-align: right;\">\n",
       "      <th></th>\n",
       "      <th>Dataframe</th>\n",
       "      <th>Missing_Values</th>\n",
       "    </tr>\n",
       "  </thead>\n",
       "  <tbody>\n",
       "    <tr>\n",
       "      <th>0</th>\n",
       "      <td>sec_arch</td>\n",
       "      <td>0</td>\n",
       "    </tr>\n",
       "    <tr>\n",
       "      <th>1</th>\n",
       "      <td>block_deals_arch</td>\n",
       "      <td>0</td>\n",
       "    </tr>\n",
       "    <tr>\n",
       "      <th>2</th>\n",
       "      <td>bulk_deals_arch</td>\n",
       "      <td>0</td>\n",
       "    </tr>\n",
       "    <tr>\n",
       "      <th>3</th>\n",
       "      <td>monthly_adv_dec</td>\n",
       "      <td>2</td>\n",
       "    </tr>\n",
       "    <tr>\n",
       "      <th>4</th>\n",
       "      <td>nse_ratios</td>\n",
       "      <td>44</td>\n",
       "    </tr>\n",
       "    <tr>\n",
       "      <th>5</th>\n",
       "      <td>short_selling_arch</td>\n",
       "      <td>0</td>\n",
       "    </tr>\n",
       "    <tr>\n",
       "      <th>6</th>\n",
       "      <td>board_meetings</td>\n",
       "      <td>0</td>\n",
       "    </tr>\n",
       "  </tbody>\n",
       "</table>\n",
       "</div>"
      ],
      "text/plain": [
       "            Dataframe  Missing_Values\n",
       "0            sec_arch               0\n",
       "1    block_deals_arch               0\n",
       "2     bulk_deals_arch               0\n",
       "3     monthly_adv_dec               2\n",
       "4          nse_ratios              44\n",
       "5  short_selling_arch               0\n",
       "6      board_meetings               0"
      ]
     },
     "execution_count": null,
     "metadata": {},
     "output_type": "execute_result"
    }
   ],
   "source": [
    "dfs_names = [\"sec_arch\", \"block_deals_arch\", \"bulk_deals_arch\", \"monthly_adv_dec\", \"nse_ratios\", \"short_selling_arch\", \"board_meetings\"]\n",
    "dfs = [sec_arch, block_deals_arch, bulk_deals_arch, monthly_adv_dec, nse_ratios, short_selling_arch, board_meetings]\n",
    "\n",
    "null_dict = {\"Dataframe\": [], \"Missing_Values\": []}\n",
    "\n",
    "for i, j in zip(dfs_names, dfs):\n",
    "    null_dict['Dataframe'].append(i)\n",
    "    null_dict['Missing_Values'].append(j.isna().sum().sum())\n",
    "\n",
    "pd.DataFrame(null_dict)"
   ]
  },
  {
   "cell_type": "markdown",
   "metadata": {},
   "source": [
    "## Security"
   ]
  },
  {
   "cell_type": "markdown",
   "metadata": {},
   "source": [
    "\n",
    "\n",
    "1. **CH_SYMBOL**: The trading symbol of the security. This is a unique identifier for the security being traded.\n",
    "\n",
    "2. **CH_TIMESTAMP**: The date and time when the data was recorded. This represents the specific time of the trading data.\n",
    "\n",
    "3. **CH_TRADE_HIGH_PRICE**: The highest price at which the security was traded during the trading session.\n",
    "\n",
    "4. **CH_TRADE_LOW_PRICE**: The lowest price at which the security was traded during the trading session.\n",
    "\n",
    "5. **CH_OPENING_PRICE**: The price at which the security first traded when the market opened.\n",
    "\n",
    "6. **CH_CLOSING_PRICE**: The price at which the security last traded when the market closed.\n",
    "\n",
    "7. **CH_LAST_TRADED_PRICE**: The price at which the security was last traded at the time of the record.\n",
    "\n",
    "8. **CH_PREVIOUS_CLS_PRICE**: The closing price of the security on the previous trading day.\n",
    "\n",
    "9. **CH_TOT_TRADED_QTY**: The total quantity of the security that was traded during the trading session.\n",
    "\n",
    "10. **CH_TOT_TRADED_VAL**: The total value of all trades made for the security during the trading session.\n",
    "\n",
    "11. **CH_52WEEK_HIGH_PRICE**: The highest price at which the security has traded in the past 52 weeks.\n",
    "\n",
    "12. **CH_52WEEK_LOW_PRICE**: The lowest price at which the security has traded in the past 52 weeks.\n",
    "\n",
    "13. **CH_TOTAL_TRADES**: The total number of individual trades that were executed for the security during the trading session."
   ]
  },
  {
   "cell_type": "code",
   "execution_count": 12,
   "metadata": {},
   "outputs": [
    {
     "data": {
      "text/html": [
       "<div>\n",
       "<style scoped>\n",
       "    .dataframe tbody tr th:only-of-type {\n",
       "        vertical-align: middle;\n",
       "    }\n",
       "\n",
       "    .dataframe tbody tr th {\n",
       "        vertical-align: top;\n",
       "    }\n",
       "\n",
       "    .dataframe thead th {\n",
       "        text-align: right;\n",
       "    }\n",
       "</style>\n",
       "<table border=\"1\" class=\"dataframe\">\n",
       "  <thead>\n",
       "    <tr style=\"text-align: right;\">\n",
       "      <th></th>\n",
       "      <th>CH_SYMBOL</th>\n",
       "      <th>CH_TIMESTAMP</th>\n",
       "      <th>CH_TRADE_HIGH_PRICE</th>\n",
       "      <th>CH_TRADE_LOW_PRICE</th>\n",
       "      <th>CH_OPENING_PRICE</th>\n",
       "      <th>CH_CLOSING_PRICE</th>\n",
       "      <th>CH_LAST_TRADED_PRICE</th>\n",
       "      <th>CH_PREVIOUS_CLS_PRICE</th>\n",
       "      <th>CH_TOT_TRADED_QTY</th>\n",
       "      <th>CH_TOT_TRADED_VAL</th>\n",
       "      <th>CH_52WEEK_HIGH_PRICE</th>\n",
       "      <th>CH_52WEEK_LOW_PRICE</th>\n",
       "      <th>CH_TOTAL_TRADES</th>\n",
       "    </tr>\n",
       "  </thead>\n",
       "  <tbody>\n",
       "    <tr>\n",
       "      <th>0</th>\n",
       "      <td>ADANIENT</td>\n",
       "      <td>2024-07-18</td>\n",
       "      <td>3111.00</td>\n",
       "      <td>3057.15</td>\n",
       "      <td>3106.0</td>\n",
       "      <td>3092.20</td>\n",
       "      <td>3090.00</td>\n",
       "      <td>3109.30</td>\n",
       "      <td>1021653</td>\n",
       "      <td>3.150451e+09</td>\n",
       "      <td>3743.90</td>\n",
       "      <td>2142.00</td>\n",
       "      <td>80772</td>\n",
       "    </tr>\n",
       "    <tr>\n",
       "      <th>1</th>\n",
       "      <td>ADANIPORTS</td>\n",
       "      <td>2024-07-18</td>\n",
       "      <td>1504.25</td>\n",
       "      <td>1472.20</td>\n",
       "      <td>1490.0</td>\n",
       "      <td>1493.90</td>\n",
       "      <td>1491.95</td>\n",
       "      <td>1499.05</td>\n",
       "      <td>3263419</td>\n",
       "      <td>4.859708e+09</td>\n",
       "      <td>1621.40</td>\n",
       "      <td>725.60</td>\n",
       "      <td>105528</td>\n",
       "    </tr>\n",
       "    <tr>\n",
       "      <th>2</th>\n",
       "      <td>APOLLOHOSP</td>\n",
       "      <td>2024-07-18</td>\n",
       "      <td>6539.70</td>\n",
       "      <td>6430.00</td>\n",
       "      <td>6432.0</td>\n",
       "      <td>6520.85</td>\n",
       "      <td>6510.00</td>\n",
       "      <td>6453.70</td>\n",
       "      <td>583444</td>\n",
       "      <td>3.792589e+09</td>\n",
       "      <td>6874.45</td>\n",
       "      <td>4726.00</td>\n",
       "      <td>64348</td>\n",
       "    </tr>\n",
       "    <tr>\n",
       "      <th>3</th>\n",
       "      <td>ASIANPAINT</td>\n",
       "      <td>2024-07-18</td>\n",
       "      <td>2957.90</td>\n",
       "      <td>2842.00</td>\n",
       "      <td>2875.0</td>\n",
       "      <td>2931.55</td>\n",
       "      <td>2932.80</td>\n",
       "      <td>2974.45</td>\n",
       "      <td>5384611</td>\n",
       "      <td>1.567913e+10</td>\n",
       "      <td>3568.00</td>\n",
       "      <td>2670.10</td>\n",
       "      <td>248518</td>\n",
       "    </tr>\n",
       "    <tr>\n",
       "      <th>4</th>\n",
       "      <td>AXISBANK</td>\n",
       "      <td>2024-07-18</td>\n",
       "      <td>1318.60</td>\n",
       "      <td>1294.50</td>\n",
       "      <td>1300.0</td>\n",
       "      <td>1309.40</td>\n",
       "      <td>1310.00</td>\n",
       "      <td>1304.00</td>\n",
       "      <td>6787511</td>\n",
       "      <td>8.875766e+09</td>\n",
       "      <td>1339.65</td>\n",
       "      <td>927.15</td>\n",
       "      <td>199758</td>\n",
       "    </tr>\n",
       "  </tbody>\n",
       "</table>\n",
       "</div>"
      ],
      "text/plain": [
       "    CH_SYMBOL CH_TIMESTAMP  CH_TRADE_HIGH_PRICE  ...  CH_52WEEK_HIGH_PRICE  CH_52WEEK_LOW_PRICE  CH_TOTAL_TRADES\n",
       "0    ADANIENT   2024-07-18              3111.00  ...               3743.90              2142.00            80772\n",
       "1  ADANIPORTS   2024-07-18              1504.25  ...               1621.40               725.60           105528\n",
       "2  APOLLOHOSP   2024-07-18              6539.70  ...               6874.45              4726.00            64348\n",
       "3  ASIANPAINT   2024-07-18              2957.90  ...               3568.00              2670.10           248518\n",
       "4    AXISBANK   2024-07-18              1318.60  ...               1339.65               927.15           199758\n",
       "\n",
       "[5 rows x 13 columns]"
      ]
     },
     "execution_count": null,
     "metadata": {},
     "output_type": "execute_result"
    }
   ],
   "source": [
    "sec_arch = sec_arch.drop([\"_id\", \"__v\", \"CH_MARKET_TYPE\", \"CH_SERIES\", \"TIMESTAMP\", \"CH_ISIN\", \"COP_DELIV_QTY\", \"COP_DELIV_PERC\", \"VWAP\", \"mTIMESTAMP\", \"createdAt\", \"updatedAt\"], axis=1)\n",
    "sec_arch.head(5)"
   ]
  },
  {
   "cell_type": "code",
   "execution_count": 13,
   "metadata": {},
   "outputs": [
    {
     "name": "stdout",
     "output_type": "stream",
     "text": [
      "<class 'pandas.core.frame.DataFrame'>\n",
      "RangeIndex: 49 entries, 0 to 48\n",
      "Data columns (total 13 columns):\n",
      " #   Column                 Non-Null Count  Dtype  \n",
      "---  ------                 --------------  -----  \n",
      " 0   CH_SYMBOL              49 non-null     object \n",
      " 1   CH_TIMESTAMP           49 non-null     object \n",
      " 2   CH_TRADE_HIGH_PRICE    49 non-null     float64\n",
      " 3   CH_TRADE_LOW_PRICE     49 non-null     float64\n",
      " 4   CH_OPENING_PRICE       49 non-null     float64\n",
      " 5   CH_CLOSING_PRICE       49 non-null     float64\n",
      " 6   CH_LAST_TRADED_PRICE   49 non-null     float64\n",
      " 7   CH_PREVIOUS_CLS_PRICE  49 non-null     float64\n",
      " 8   CH_TOT_TRADED_QTY      49 non-null     int64  \n",
      " 9   CH_TOT_TRADED_VAL      49 non-null     float64\n",
      " 10  CH_52WEEK_HIGH_PRICE   49 non-null     float64\n",
      " 11  CH_52WEEK_LOW_PRICE    49 non-null     float64\n",
      " 12  CH_TOTAL_TRADES        49 non-null     int64  \n",
      "dtypes: float64(9), int64(2), object(2)\n",
      "memory usage: 5.1+ KB\n",
      "<class 'pandas.core.frame.DataFrame'>\n",
      "RangeIndex: 49 entries, 0 to 48\n",
      "Data columns (total 13 columns):\n",
      " #   Column                 Non-Null Count  Dtype  \n",
      "---  ------                 --------------  -----  \n",
      " 0   CH_SYMBOL              49 non-null     object \n",
      " 1   CH_TIMESTAMP           49 non-null     object \n",
      " 2   CH_TRADE_HIGH_PRICE    49 non-null     float64\n",
      " 3   CH_TRADE_LOW_PRICE     49 non-null     float64\n",
      " 4   CH_OPENING_PRICE       49 non-null     float64\n",
      " 5   CH_CLOSING_PRICE       49 non-null     float64\n",
      " 6   CH_LAST_TRADED_PRICE   49 non-null     float64\n",
      " 7   CH_PREVIOUS_CLS_PRICE  49 non-null     float64\n",
      " 8   CH_TOT_TRADED_QTY      49 non-null     int64  \n",
      " 9   CH_TOT_TRADED_VAL      49 non-null     float64\n",
      " 10  CH_52WEEK_HIGH_PRICE   49 non-null     float64\n",
      " 11  CH_52WEEK_LOW_PRICE    49 non-null     float64\n",
      " 12  CH_TOTAL_TRADES        49 non-null     int64  \n",
      "dtypes: float64(9), int64(2), object(2)\n",
      "memory usage: 5.1+ KB\n"
     ]
    }
   ],
   "source": [
    "sec_arch.info()"
   ]
  },
  {
   "cell_type": "markdown",
   "metadata": {},
   "source": [
    "Converting the datatype of `CH_TIMESTAMP` column to the correct datatype: `datetime`."
   ]
  },
  {
   "cell_type": "code",
   "execution_count": 14,
   "metadata": {},
   "outputs": [],
   "source": [
    "sec_arch['CH_TIMESTAMP'] = pd.to_datetime(sec_arch['CH_TIMESTAMP'], format='%Y-%m-%d')"
   ]
  },
  {
   "cell_type": "code",
   "execution_count": 15,
   "metadata": {},
   "outputs": [
    {
     "data": {
      "text/html": [
       "<div>\n",
       "<style scoped>\n",
       "    .dataframe tbody tr th:only-of-type {\n",
       "        vertical-align: middle;\n",
       "    }\n",
       "\n",
       "    .dataframe tbody tr th {\n",
       "        vertical-align: top;\n",
       "    }\n",
       "\n",
       "    .dataframe thead th {\n",
       "        text-align: right;\n",
       "    }\n",
       "</style>\n",
       "<table border=\"1\" class=\"dataframe\">\n",
       "  <thead>\n",
       "    <tr style=\"text-align: right;\">\n",
       "      <th></th>\n",
       "      <th>CH_SYMBOL</th>\n",
       "      <th>CH_TIMESTAMP</th>\n",
       "      <th>CH_TRADE_HIGH_PRICE</th>\n",
       "      <th>CH_TRADE_LOW_PRICE</th>\n",
       "      <th>CH_OPENING_PRICE</th>\n",
       "      <th>CH_CLOSING_PRICE</th>\n",
       "      <th>CH_LAST_TRADED_PRICE</th>\n",
       "      <th>CH_PREVIOUS_CLS_PRICE</th>\n",
       "      <th>CH_TOT_TRADED_QTY</th>\n",
       "      <th>CH_TOT_TRADED_VAL</th>\n",
       "      <th>CH_52WEEK_HIGH_PRICE</th>\n",
       "      <th>CH_52WEEK_LOW_PRICE</th>\n",
       "      <th>CH_TOTAL_TRADES</th>\n",
       "    </tr>\n",
       "  </thead>\n",
       "  <tbody>\n",
       "    <tr>\n",
       "      <th>0</th>\n",
       "      <td>ADANIENT</td>\n",
       "      <td>2024-07-18</td>\n",
       "      <td>3111.00</td>\n",
       "      <td>3057.15</td>\n",
       "      <td>3106.0</td>\n",
       "      <td>3092.20</td>\n",
       "      <td>3090.00</td>\n",
       "      <td>3109.30</td>\n",
       "      <td>1021653</td>\n",
       "      <td>3.150451e+09</td>\n",
       "      <td>3743.90</td>\n",
       "      <td>2142.0</td>\n",
       "      <td>80772</td>\n",
       "    </tr>\n",
       "    <tr>\n",
       "      <th>1</th>\n",
       "      <td>ADANIPORTS</td>\n",
       "      <td>2024-07-18</td>\n",
       "      <td>1504.25</td>\n",
       "      <td>1472.20</td>\n",
       "      <td>1490.0</td>\n",
       "      <td>1493.90</td>\n",
       "      <td>1491.95</td>\n",
       "      <td>1499.05</td>\n",
       "      <td>3263419</td>\n",
       "      <td>4.859708e+09</td>\n",
       "      <td>1621.40</td>\n",
       "      <td>725.6</td>\n",
       "      <td>105528</td>\n",
       "    </tr>\n",
       "    <tr>\n",
       "      <th>2</th>\n",
       "      <td>APOLLOHOSP</td>\n",
       "      <td>2024-07-18</td>\n",
       "      <td>6539.70</td>\n",
       "      <td>6430.00</td>\n",
       "      <td>6432.0</td>\n",
       "      <td>6520.85</td>\n",
       "      <td>6510.00</td>\n",
       "      <td>6453.70</td>\n",
       "      <td>583444</td>\n",
       "      <td>3.792589e+09</td>\n",
       "      <td>6874.45</td>\n",
       "      <td>4726.0</td>\n",
       "      <td>64348</td>\n",
       "    </tr>\n",
       "  </tbody>\n",
       "</table>\n",
       "</div>"
      ],
      "text/plain": [
       "    CH_SYMBOL CH_TIMESTAMP  CH_TRADE_HIGH_PRICE  ...  CH_52WEEK_HIGH_PRICE  CH_52WEEK_LOW_PRICE  CH_TOTAL_TRADES\n",
       "0    ADANIENT   2024-07-18              3111.00  ...               3743.90               2142.0            80772\n",
       "1  ADANIPORTS   2024-07-18              1504.25  ...               1621.40                725.6           105528\n",
       "2  APOLLOHOSP   2024-07-18              6539.70  ...               6874.45               4726.0            64348\n",
       "\n",
       "[3 rows x 13 columns]"
      ]
     },
     "execution_count": null,
     "metadata": {},
     "output_type": "execute_result"
    }
   ],
   "source": [
    "sec_arch.head(3)"
   ]
  },
  {
   "cell_type": "markdown",
   "metadata": {},
   "source": [
    "## Blocked Deal"
   ]
  },
  {
   "cell_type": "markdown",
   "metadata": {},
   "source": [
    "1. **BD_DT_DATE**: This column represents the date on which the block deal took place.\n",
    "\n",
    "2. **BD_SYMBOL**: This is the ticker symbol of the stock involved in the block deal. It's a unique identifier used to represent the specific stock on the stock exchange.\n",
    "\n",
    "3. **BD_SCRIP_NAME**: This column contains the full name of the scrip (stock) involved in the block deal.\n",
    "\n",
    "4. **BD_CLIENT_NAME**: This column represents the name of the client or entity that is either buying or selling in the block deal.\n",
    "\n",
    "5. **BD_BUY_SELL**: This column indicates whether the client was buying or selling in the block deal. It usually has values like \"BUY\" or \"SELL\".\n",
    "\n",
    "6. **BD_QTY_TRD**: This stands for the quantity traded. It represents the number of shares that were bought or sold in the block deal.\n",
    "\n",
    "7. **BD_TP_WATP**: This column stands for Trade Price / Weighted Average Trade Price. It indicates the price at which the shares were traded in the block deal."
   ]
  },
  {
   "cell_type": "code",
   "execution_count": 16,
   "metadata": {},
   "outputs": [
    {
     "data": {
      "text/html": [
       "<div>\n",
       "<style scoped>\n",
       "    .dataframe tbody tr th:only-of-type {\n",
       "        vertical-align: middle;\n",
       "    }\n",
       "\n",
       "    .dataframe tbody tr th {\n",
       "        vertical-align: top;\n",
       "    }\n",
       "\n",
       "    .dataframe thead th {\n",
       "        text-align: right;\n",
       "    }\n",
       "</style>\n",
       "<table border=\"1\" class=\"dataframe\">\n",
       "  <thead>\n",
       "    <tr style=\"text-align: right;\">\n",
       "      <th></th>\n",
       "      <th>BD_DT_DATE</th>\n",
       "      <th>BD_SYMBOL</th>\n",
       "      <th>BD_SCRIP_NAME</th>\n",
       "      <th>BD_CLIENT_NAME</th>\n",
       "      <th>BD_BUY_SELL</th>\n",
       "      <th>BD_QTY_TRD</th>\n",
       "      <th>BD_TP_WATP</th>\n",
       "    </tr>\n",
       "  </thead>\n",
       "  <tbody>\n",
       "    <tr>\n",
       "      <th>0</th>\n",
       "      <td>16-JUL-2024</td>\n",
       "      <td>ZOMATO</td>\n",
       "      <td>Zomato Limited</td>\n",
       "      <td>AXIS MUTUAL FUND A/C AXIS FOCUSED 25 FUND</td>\n",
       "      <td>BUY</td>\n",
       "      <td>4400000</td>\n",
       "      <td>226.85</td>\n",
       "    </tr>\n",
       "    <tr>\n",
       "      <th>1</th>\n",
       "      <td>16-JUL-2024</td>\n",
       "      <td>ZOMATO</td>\n",
       "      <td>Zomato Limited</td>\n",
       "      <td>BNP PARIBAS ARBITRAGE</td>\n",
       "      <td>BUY</td>\n",
       "      <td>735000</td>\n",
       "      <td>226.85</td>\n",
       "    </tr>\n",
       "    <tr>\n",
       "      <th>2</th>\n",
       "      <td>16-JUL-2024</td>\n",
       "      <td>ZOMATO</td>\n",
       "      <td>Zomato Limited</td>\n",
       "      <td>CITIGROUP GLOBAL MARKETS MAURITIUS PRIVATE LIM...</td>\n",
       "      <td>BUY</td>\n",
       "      <td>1398000</td>\n",
       "      <td>226.85</td>\n",
       "    </tr>\n",
       "    <tr>\n",
       "      <th>3</th>\n",
       "      <td>16-JUL-2024</td>\n",
       "      <td>ZOMATO</td>\n",
       "      <td>Zomato Limited</td>\n",
       "      <td>GOLDMAN SACHS INVESTMENTS (MAURITIUS) I LIMITE...</td>\n",
       "      <td>BUY</td>\n",
       "      <td>920000</td>\n",
       "      <td>226.85</td>\n",
       "    </tr>\n",
       "    <tr>\n",
       "      <th>4</th>\n",
       "      <td>16-JUL-2024</td>\n",
       "      <td>ZOMATO</td>\n",
       "      <td>Zomato Limited</td>\n",
       "      <td>MATTHEWS ASIA FUNDS PACIFIC TIGER FUND</td>\n",
       "      <td>BUY</td>\n",
       "      <td>90413</td>\n",
       "      <td>226.85</td>\n",
       "    </tr>\n",
       "  </tbody>\n",
       "</table>\n",
       "</div>"
      ],
      "text/plain": [
       "    BD_DT_DATE BD_SYMBOL   BD_SCRIP_NAME  ... BD_BUY_SELL BD_QTY_TRD  BD_TP_WATP\n",
       "0  16-JUL-2024    ZOMATO  Zomato Limited  ...         BUY    4400000      226.85\n",
       "1  16-JUL-2024    ZOMATO  Zomato Limited  ...         BUY     735000      226.85\n",
       "2  16-JUL-2024    ZOMATO  Zomato Limited  ...         BUY    1398000      226.85\n",
       "3  16-JUL-2024    ZOMATO  Zomato Limited  ...         BUY     920000      226.85\n",
       "4  16-JUL-2024    ZOMATO  Zomato Limited  ...         BUY      90413      226.85\n",
       "\n",
       "[5 rows x 7 columns]"
      ]
     },
     "execution_count": null,
     "metadata": {},
     "output_type": "execute_result"
    }
   ],
   "source": [
    "block_deals_arch = block_deals_arch.drop([\"_id\", \"createdAt\", \"updatedAt\", \"mTIMESTAMP\", \"__v\", \"TIMESTAMP\"], axis=1)\n",
    "block_deals_arch.head(5)"
   ]
  },
  {
   "cell_type": "markdown",
   "metadata": {},
   "source": [
    "Converting the datatype of `BD_DT_DATE` column to the correct datatype: `datetime`."
   ]
  },
  {
   "cell_type": "code",
   "execution_count": 17,
   "metadata": {},
   "outputs": [],
   "source": [
    "block_deals_arch['BD_DT_DATE'] = pd.to_datetime(block_deals_arch['BD_DT_DATE'], format='%d-%b-%Y')"
   ]
  },
  {
   "cell_type": "code",
   "execution_count": 18,
   "metadata": {},
   "outputs": [
    {
     "name": "stdout",
     "output_type": "stream",
     "text": [
      "<class 'pandas.core.frame.DataFrame'>\n",
      "RangeIndex: 13 entries, 0 to 12\n",
      "Data columns (total 7 columns):\n",
      " #   Column          Non-Null Count  Dtype         \n",
      "---  ------          --------------  -----         \n",
      " 0   BD_DT_DATE      13 non-null     datetime64[ns]\n",
      " 1   BD_SYMBOL       13 non-null     object        \n",
      " 2   BD_SCRIP_NAME   13 non-null     object        \n",
      " 3   BD_CLIENT_NAME  13 non-null     object        \n",
      " 4   BD_BUY_SELL     13 non-null     object        \n",
      " 5   BD_QTY_TRD      13 non-null     int64         \n",
      " 6   BD_TP_WATP      13 non-null     float64       \n",
      "dtypes: datetime64[ns](1), float64(1), int64(1), object(4)\n",
      "memory usage: 856.0+ bytes\n",
      "<class 'pandas.core.frame.DataFrame'>\n",
      "RangeIndex: 13 entries, 0 to 12\n",
      "Data columns (total 7 columns):\n",
      " #   Column          Non-Null Count  Dtype         \n",
      "---  ------          --------------  -----         \n",
      " 0   BD_DT_DATE      13 non-null     datetime64[ns]\n",
      " 1   BD_SYMBOL       13 non-null     object        \n",
      " 2   BD_SCRIP_NAME   13 non-null     object        \n",
      " 3   BD_CLIENT_NAME  13 non-null     object        \n",
      " 4   BD_BUY_SELL     13 non-null     object        \n",
      " 5   BD_QTY_TRD      13 non-null     int64         \n",
      " 6   BD_TP_WATP      13 non-null     float64       \n",
      "dtypes: datetime64[ns](1), float64(1), int64(1), object(4)\n",
      "memory usage: 856.0+ bytes\n"
     ]
    }
   ],
   "source": [
    "block_deals_arch.info()"
   ]
  },
  {
   "cell_type": "code",
   "execution_count": 19,
   "metadata": {},
   "outputs": [
    {
     "data": {
      "text/html": [
       "<div>\n",
       "<style scoped>\n",
       "    .dataframe tbody tr th:only-of-type {\n",
       "        vertical-align: middle;\n",
       "    }\n",
       "\n",
       "    .dataframe tbody tr th {\n",
       "        vertical-align: top;\n",
       "    }\n",
       "\n",
       "    .dataframe thead th {\n",
       "        text-align: right;\n",
       "    }\n",
       "</style>\n",
       "<table border=\"1\" class=\"dataframe\">\n",
       "  <thead>\n",
       "    <tr style=\"text-align: right;\">\n",
       "      <th></th>\n",
       "      <th>BD_DT_DATE</th>\n",
       "      <th>BD_SYMBOL</th>\n",
       "      <th>BD_SCRIP_NAME</th>\n",
       "      <th>BD_CLIENT_NAME</th>\n",
       "      <th>BD_BUY_SELL</th>\n",
       "      <th>BD_QTY_TRD</th>\n",
       "      <th>BD_TP_WATP</th>\n",
       "    </tr>\n",
       "  </thead>\n",
       "  <tbody>\n",
       "    <tr>\n",
       "      <th>0</th>\n",
       "      <td>2024-07-16</td>\n",
       "      <td>ZOMATO</td>\n",
       "      <td>Zomato Limited</td>\n",
       "      <td>AXIS MUTUAL FUND A/C AXIS FOCUSED 25 FUND</td>\n",
       "      <td>BUY</td>\n",
       "      <td>4400000</td>\n",
       "      <td>226.85</td>\n",
       "    </tr>\n",
       "    <tr>\n",
       "      <th>1</th>\n",
       "      <td>2024-07-16</td>\n",
       "      <td>ZOMATO</td>\n",
       "      <td>Zomato Limited</td>\n",
       "      <td>BNP PARIBAS ARBITRAGE</td>\n",
       "      <td>BUY</td>\n",
       "      <td>735000</td>\n",
       "      <td>226.85</td>\n",
       "    </tr>\n",
       "  </tbody>\n",
       "</table>\n",
       "</div>"
      ],
      "text/plain": [
       "  BD_DT_DATE BD_SYMBOL   BD_SCRIP_NAME                             BD_CLIENT_NAME BD_BUY_SELL  BD_QTY_TRD  BD_TP_WATP\n",
       "0 2024-07-16    ZOMATO  Zomato Limited  AXIS MUTUAL FUND A/C AXIS FOCUSED 25 FUND         BUY     4400000      226.85\n",
       "1 2024-07-16    ZOMATO  Zomato Limited                      BNP PARIBAS ARBITRAGE         BUY      735000      226.85"
      ]
     },
     "execution_count": null,
     "metadata": {},
     "output_type": "execute_result"
    }
   ],
   "source": [
    "block_deals_arch.head(2)"
   ]
  },
  {
   "cell_type": "markdown",
   "metadata": {},
   "source": [
    "## Bulk Deals"
   ]
  },
  {
   "cell_type": "markdown",
   "metadata": {},
   "source": [
    "Here's a breakdown of what each column in your NSE Bulk Deals Archives CSV file represents:\n",
    "\n",
    "1. **BD_DT_DATE**: The date on which the bulk deal was executed. \"BD\" likely stands for \"Bulk Deal\" and \"DT\" for \"Date\".\n",
    "\n",
    "2. **BD_SYMBOL**: The stock symbol (ticker) of the security involved in the bulk deal. This is typically a unique code used to identify the stock on the exchange.\n",
    "\n",
    "3. **BD_SCRIP_NAME**: The name of the scrip (security) involved in the bulk deal. This is the full name of the company or the security being traded.\n",
    "\n",
    "4. **BD_CLIENT_NAME**: The name of the client who executed the bulk deal. This could be an individual, a corporation, or an institutional investor.\n",
    "\n",
    "5. **BD_BUY_SELL**: Indicates whether the transaction was a buy or sell transaction. It typically contains values like \"BUY\" or \"SELL\".\n",
    "\n",
    "6. **BD_QTY_TRD**: The quantity of shares traded in the bulk deal. This column shows the number of shares that were bought or sold in the transaction.\n",
    "\n",
    "7. **BD_TP_WATP**: This likely stands for \"Trade Price\" or \"Weighted Average Trade Price\". It represents the price at which the shares were traded. In the case of \"Weighted Average Trade Price\", it would be the average price weighted by the number of shares traded at each price level.\n",
    "\n",
    "If you have any further questions or need more detailed information about these columns, feel free to ask!"
   ]
  },
  {
   "cell_type": "code",
   "execution_count": 20,
   "metadata": {},
   "outputs": [
    {
     "data": {
      "text/html": [
       "<div>\n",
       "<style scoped>\n",
       "    .dataframe tbody tr th:only-of-type {\n",
       "        vertical-align: middle;\n",
       "    }\n",
       "\n",
       "    .dataframe tbody tr th {\n",
       "        vertical-align: top;\n",
       "    }\n",
       "\n",
       "    .dataframe thead th {\n",
       "        text-align: right;\n",
       "    }\n",
       "</style>\n",
       "<table border=\"1\" class=\"dataframe\">\n",
       "  <thead>\n",
       "    <tr style=\"text-align: right;\">\n",
       "      <th></th>\n",
       "      <th>BD_DT_DATE</th>\n",
       "      <th>BD_SYMBOL</th>\n",
       "      <th>BD_SCRIP_NAME</th>\n",
       "      <th>BD_CLIENT_NAME</th>\n",
       "      <th>BD_BUY_SELL</th>\n",
       "      <th>BD_QTY_TRD</th>\n",
       "      <th>BD_TP_WATP</th>\n",
       "    </tr>\n",
       "  </thead>\n",
       "  <tbody>\n",
       "    <tr>\n",
       "      <th>0</th>\n",
       "      <td>16-JUL-2024</td>\n",
       "      <td>ACSAL</td>\n",
       "      <td>Arvind and Company</td>\n",
       "      <td>DEEPAK DHANJI PATEL</td>\n",
       "      <td>SELL</td>\n",
       "      <td>192000</td>\n",
       "      <td>79.46</td>\n",
       "    </tr>\n",
       "    <tr>\n",
       "      <th>1</th>\n",
       "      <td>16-JUL-2024</td>\n",
       "      <td>ACSAL</td>\n",
       "      <td>Arvind and Company</td>\n",
       "      <td>SETU SECURITIES PVT LTD</td>\n",
       "      <td>SELL</td>\n",
       "      <td>111000</td>\n",
       "      <td>78.60</td>\n",
       "    </tr>\n",
       "    <tr>\n",
       "      <th>2</th>\n",
       "      <td>16-JUL-2024</td>\n",
       "      <td>ACSAL</td>\n",
       "      <td>Arvind and Company</td>\n",
       "      <td>SETU SECURITIES PVT LTD</td>\n",
       "      <td>BUY</td>\n",
       "      <td>114000</td>\n",
       "      <td>79.06</td>\n",
       "    </tr>\n",
       "    <tr>\n",
       "      <th>3</th>\n",
       "      <td>16-JUL-2024</td>\n",
       "      <td>AHIMSA</td>\n",
       "      <td>Ahimsa Industries Ltd.</td>\n",
       "      <td>RCSPL SHARE BROKING PRIVATE LIMITED</td>\n",
       "      <td>BUY</td>\n",
       "      <td>60000</td>\n",
       "      <td>21.75</td>\n",
       "    </tr>\n",
       "  </tbody>\n",
       "</table>\n",
       "</div>"
      ],
      "text/plain": [
       "    BD_DT_DATE BD_SYMBOL           BD_SCRIP_NAME                       BD_CLIENT_NAME BD_BUY_SELL  BD_QTY_TRD  BD_TP_WATP\n",
       "0  16-JUL-2024     ACSAL      Arvind and Company                  DEEPAK DHANJI PATEL        SELL      192000       79.46\n",
       "1  16-JUL-2024     ACSAL      Arvind and Company              SETU SECURITIES PVT LTD        SELL      111000       78.60\n",
       "2  16-JUL-2024     ACSAL      Arvind and Company              SETU SECURITIES PVT LTD         BUY      114000       79.06\n",
       "3  16-JUL-2024    AHIMSA  Ahimsa Industries Ltd.  RCSPL SHARE BROKING PRIVATE LIMITED         BUY       60000       21.75"
      ]
     },
     "execution_count": null,
     "metadata": {},
     "output_type": "execute_result"
    }
   ],
   "source": [
    "bulk_deals_arch = bulk_deals_arch.drop(['_id', 'BD_REMARKS', 'TIMESTAMP', 'createdAt', 'updatedAt', '__v', 'mTIMESTAMP'], axis=1)\n",
    "bulk_deals_arch.head(4)"
   ]
  },
  {
   "cell_type": "code",
   "execution_count": 21,
   "metadata": {},
   "outputs": [
    {
     "name": "stdout",
     "output_type": "stream",
     "text": [
      "<class 'pandas.core.frame.DataFrame'>\n",
      "RangeIndex: 70 entries, 0 to 69\n",
      "Data columns (total 7 columns):\n",
      " #   Column          Non-Null Count  Dtype  \n",
      "---  ------          --------------  -----  \n",
      " 0   BD_DT_DATE      70 non-null     object \n",
      " 1   BD_SYMBOL       70 non-null     object \n",
      " 2   BD_SCRIP_NAME   70 non-null     object \n",
      " 3   BD_CLIENT_NAME  70 non-null     object \n",
      " 4   BD_BUY_SELL     70 non-null     object \n",
      " 5   BD_QTY_TRD      70 non-null     int64  \n",
      " 6   BD_TP_WATP      70 non-null     float64\n",
      "dtypes: float64(1), int64(1), object(5)\n",
      "memory usage: 4.0+ KB\n",
      "<class 'pandas.core.frame.DataFrame'>\n",
      "RangeIndex: 70 entries, 0 to 69\n",
      "Data columns (total 7 columns):\n",
      " #   Column          Non-Null Count  Dtype  \n",
      "---  ------          --------------  -----  \n",
      " 0   BD_DT_DATE      70 non-null     object \n",
      " 1   BD_SYMBOL       70 non-null     object \n",
      " 2   BD_SCRIP_NAME   70 non-null     object \n",
      " 3   BD_CLIENT_NAME  70 non-null     object \n",
      " 4   BD_BUY_SELL     70 non-null     object \n",
      " 5   BD_QTY_TRD      70 non-null     int64  \n",
      " 6   BD_TP_WATP      70 non-null     float64\n",
      "dtypes: float64(1), int64(1), object(5)\n",
      "memory usage: 4.0+ KB\n"
     ]
    }
   ],
   "source": [
    "bulk_deals_arch.info()"
   ]
  },
  {
   "cell_type": "markdown",
   "metadata": {},
   "source": [
    "Converting the datatype of `BD_DT_DATE` column to the correct datatype: `datetime`."
   ]
  },
  {
   "cell_type": "code",
   "execution_count": 22,
   "metadata": {},
   "outputs": [],
   "source": [
    "bulk_deals_arch['BD_DT_DATE'] = pd.to_datetime(bulk_deals_arch['BD_DT_DATE'], format='%d-%b-%Y')"
   ]
  },
  {
   "cell_type": "code",
   "execution_count": 23,
   "metadata": {},
   "outputs": [
    {
     "data": {
      "text/html": [
       "<div>\n",
       "<style scoped>\n",
       "    .dataframe tbody tr th:only-of-type {\n",
       "        vertical-align: middle;\n",
       "    }\n",
       "\n",
       "    .dataframe tbody tr th {\n",
       "        vertical-align: top;\n",
       "    }\n",
       "\n",
       "    .dataframe thead th {\n",
       "        text-align: right;\n",
       "    }\n",
       "</style>\n",
       "<table border=\"1\" class=\"dataframe\">\n",
       "  <thead>\n",
       "    <tr style=\"text-align: right;\">\n",
       "      <th></th>\n",
       "      <th>BD_DT_DATE</th>\n",
       "      <th>BD_SYMBOL</th>\n",
       "      <th>BD_SCRIP_NAME</th>\n",
       "      <th>BD_CLIENT_NAME</th>\n",
       "      <th>BD_BUY_SELL</th>\n",
       "      <th>BD_QTY_TRD</th>\n",
       "      <th>BD_TP_WATP</th>\n",
       "    </tr>\n",
       "  </thead>\n",
       "  <tbody>\n",
       "    <tr>\n",
       "      <th>0</th>\n",
       "      <td>2024-07-16</td>\n",
       "      <td>ACSAL</td>\n",
       "      <td>Arvind and Company</td>\n",
       "      <td>DEEPAK DHANJI PATEL</td>\n",
       "      <td>SELL</td>\n",
       "      <td>192000</td>\n",
       "      <td>79.46</td>\n",
       "    </tr>\n",
       "    <tr>\n",
       "      <th>1</th>\n",
       "      <td>2024-07-16</td>\n",
       "      <td>ACSAL</td>\n",
       "      <td>Arvind and Company</td>\n",
       "      <td>SETU SECURITIES PVT LTD</td>\n",
       "      <td>SELL</td>\n",
       "      <td>111000</td>\n",
       "      <td>78.60</td>\n",
       "    </tr>\n",
       "    <tr>\n",
       "      <th>2</th>\n",
       "      <td>2024-07-16</td>\n",
       "      <td>ACSAL</td>\n",
       "      <td>Arvind and Company</td>\n",
       "      <td>SETU SECURITIES PVT LTD</td>\n",
       "      <td>BUY</td>\n",
       "      <td>114000</td>\n",
       "      <td>79.06</td>\n",
       "    </tr>\n",
       "    <tr>\n",
       "      <th>3</th>\n",
       "      <td>2024-07-16</td>\n",
       "      <td>AHIMSA</td>\n",
       "      <td>Ahimsa Industries Ltd.</td>\n",
       "      <td>RCSPL SHARE BROKING PRIVATE LIMITED</td>\n",
       "      <td>BUY</td>\n",
       "      <td>60000</td>\n",
       "      <td>21.75</td>\n",
       "    </tr>\n",
       "    <tr>\n",
       "      <th>4</th>\n",
       "      <td>2024-07-16</td>\n",
       "      <td>AMBEY</td>\n",
       "      <td>Ambey Laboratories Ltd</td>\n",
       "      <td>MANSI SHARE AND STOCK ADVISORS PVT LTD</td>\n",
       "      <td>BUY</td>\n",
       "      <td>270000</td>\n",
       "      <td>87.80</td>\n",
       "    </tr>\n",
       "  </tbody>\n",
       "</table>\n",
       "</div>"
      ],
      "text/plain": [
       "  BD_DT_DATE BD_SYMBOL           BD_SCRIP_NAME                          BD_CLIENT_NAME BD_BUY_SELL  BD_QTY_TRD  BD_TP_WATP\n",
       "0 2024-07-16     ACSAL      Arvind and Company                     DEEPAK DHANJI PATEL        SELL      192000       79.46\n",
       "1 2024-07-16     ACSAL      Arvind and Company                 SETU SECURITIES PVT LTD        SELL      111000       78.60\n",
       "2 2024-07-16     ACSAL      Arvind and Company                 SETU SECURITIES PVT LTD         BUY      114000       79.06\n",
       "3 2024-07-16    AHIMSA  Ahimsa Industries Ltd.     RCSPL SHARE BROKING PRIVATE LIMITED         BUY       60000       21.75\n",
       "4 2024-07-16     AMBEY  Ambey Laboratories Ltd  MANSI SHARE AND STOCK ADVISORS PVT LTD         BUY      270000       87.80"
      ]
     },
     "execution_count": null,
     "metadata": {},
     "output_type": "execute_result"
    }
   ],
   "source": [
    "bulk_deals_arch.head(5)"
   ]
  },
  {
   "cell_type": "markdown",
   "metadata": {},
   "source": [
    "## Monthly Adv/Dec"
   ]
  },
  {
   "cell_type": "markdown",
   "metadata": {},
   "source": [
    "1. **ADM_MONTH_YEAR_STRING**: This column represents the month and year for the data. It might be formatted as a string in a format such as \"MMM-YYYY\" (e.g., \"Jan-2023\").\n",
    "\n",
    "2. **ADM_ADVANCES**: This column shows the number of stocks that have advanced (i.e., increased in price) during the specified month.\n",
    "\n",
    "3. **ADM_ADV_DCLN_RATIO**: This is the ratio of the number of advancing stocks to the number of declining stocks. It is calculated as:\n",
    "\n",
    "\n",
    "4. **ADM_DECLINES**: This column shows the number of stocks that have declined (i.e., decreased in price) during the specified month.\n"
   ]
  },
  {
   "cell_type": "code",
   "execution_count": 24,
   "metadata": {},
   "outputs": [
    {
     "data": {
      "text/html": [
       "<div>\n",
       "<style scoped>\n",
       "    .dataframe tbody tr th:only-of-type {\n",
       "        vertical-align: middle;\n",
       "    }\n",
       "\n",
       "    .dataframe tbody tr th {\n",
       "        vertical-align: top;\n",
       "    }\n",
       "\n",
       "    .dataframe thead th {\n",
       "        text-align: right;\n",
       "    }\n",
       "</style>\n",
       "<table border=\"1\" class=\"dataframe\">\n",
       "  <thead>\n",
       "    <tr style=\"text-align: right;\">\n",
       "      <th></th>\n",
       "      <th>ADM_MONTH_YEAR_STRING</th>\n",
       "      <th>ADM_ADVANCES</th>\n",
       "      <th>ADM_ADV_DCLN_RATIO</th>\n",
       "      <th>ADM_DECLINES</th>\n",
       "    </tr>\n",
       "  </thead>\n",
       "  <tbody>\n",
       "    <tr>\n",
       "      <th>0</th>\n",
       "      <td>6/2024</td>\n",
       "      <td>1457.052632</td>\n",
       "      <td>1.241379</td>\n",
       "      <td>1173.736842</td>\n",
       "    </tr>\n",
       "    <tr>\n",
       "      <th>1</th>\n",
       "      <td>5/2024</td>\n",
       "      <td>1159.181818</td>\n",
       "      <td>0.821241</td>\n",
       "      <td>1411.500000</td>\n",
       "    </tr>\n",
       "    <tr>\n",
       "      <th>2</th>\n",
       "      <td>4/2024</td>\n",
       "      <td>1409.200000</td>\n",
       "      <td>1.212424</td>\n",
       "      <td>1162.300000</td>\n",
       "    </tr>\n",
       "    <tr>\n",
       "      <th>3</th>\n",
       "      <td>3/2024</td>\n",
       "      <td>1100.166667</td>\n",
       "      <td>0.747311</td>\n",
       "      <td>1472.166667</td>\n",
       "    </tr>\n",
       "  </tbody>\n",
       "</table>\n",
       "</div>"
      ],
      "text/plain": [
       "  ADM_MONTH_YEAR_STRING  ADM_ADVANCES  ADM_ADV_DCLN_RATIO  ADM_DECLINES\n",
       "0                6/2024   1457.052632            1.241379   1173.736842\n",
       "1                5/2024   1159.181818            0.821241   1411.500000\n",
       "2                4/2024   1409.200000            1.212424   1162.300000\n",
       "3                3/2024   1100.166667            0.747311   1472.166667"
      ]
     },
     "execution_count": null,
     "metadata": {},
     "output_type": "execute_result"
    }
   ],
   "source": [
    "monthly_adv_dec = monthly_adv_dec.drop(['_id', 'TIMESTAMP', 'ADM_MONTH', 'ADM_REC_TY'], axis=1)\n",
    "monthly_adv_dec.head(4)"
   ]
  },
  {
   "cell_type": "markdown",
   "metadata": {},
   "source": [
    "Converting the datatype of `ADM_MONTH_YEAR_STRING` column to the correct datatype: `datetime`."
   ]
  },
  {
   "cell_type": "code",
   "execution_count": 25,
   "metadata": {},
   "outputs": [
    {
     "name": "stderr",
     "output_type": "stream",
     "text": [
      "<positron-console-cell-25>:1: UserWarning: Could not infer format, so each element will be parsed individually, falling back to `dateutil`. To ensure parsing is consistent and as-expected, please specify a format.\n"
     ]
    }
   ],
   "source": [
    "monthly_adv_dec['ADM_MONTH_YEAR_STRING'] = pd.to_datetime(monthly_adv_dec['ADM_MONTH_YEAR_STRING'])"
   ]
  },
  {
   "cell_type": "code",
   "execution_count": 26,
   "metadata": {},
   "outputs": [
    {
     "data": {
      "text/html": [
       "<div>\n",
       "<style scoped>\n",
       "    .dataframe tbody tr th:only-of-type {\n",
       "        vertical-align: middle;\n",
       "    }\n",
       "\n",
       "    .dataframe tbody tr th {\n",
       "        vertical-align: top;\n",
       "    }\n",
       "\n",
       "    .dataframe thead th {\n",
       "        text-align: right;\n",
       "    }\n",
       "</style>\n",
       "<table border=\"1\" class=\"dataframe\">\n",
       "  <thead>\n",
       "    <tr style=\"text-align: right;\">\n",
       "      <th></th>\n",
       "      <th>ADM_MONTH_YEAR_STRING</th>\n",
       "      <th>ADM_ADVANCES</th>\n",
       "      <th>ADM_ADV_DCLN_RATIO</th>\n",
       "      <th>ADM_DECLINES</th>\n",
       "    </tr>\n",
       "  </thead>\n",
       "  <tbody>\n",
       "    <tr>\n",
       "      <th>0</th>\n",
       "      <td>2024-06-01</td>\n",
       "      <td>1457.052632</td>\n",
       "      <td>1.241379</td>\n",
       "      <td>1173.736842</td>\n",
       "    </tr>\n",
       "    <tr>\n",
       "      <th>1</th>\n",
       "      <td>2024-05-01</td>\n",
       "      <td>1159.181818</td>\n",
       "      <td>0.821241</td>\n",
       "      <td>1411.500000</td>\n",
       "    </tr>\n",
       "    <tr>\n",
       "      <th>2</th>\n",
       "      <td>2024-04-01</td>\n",
       "      <td>1409.200000</td>\n",
       "      <td>1.212424</td>\n",
       "      <td>1162.300000</td>\n",
       "    </tr>\n",
       "    <tr>\n",
       "      <th>3</th>\n",
       "      <td>2024-03-01</td>\n",
       "      <td>1100.166667</td>\n",
       "      <td>0.747311</td>\n",
       "      <td>1472.166667</td>\n",
       "    </tr>\n",
       "  </tbody>\n",
       "</table>\n",
       "</div>"
      ],
      "text/plain": [
       "  ADM_MONTH_YEAR_STRING  ADM_ADVANCES  ADM_ADV_DCLN_RATIO  ADM_DECLINES\n",
       "0            2024-06-01   1457.052632            1.241379   1173.736842\n",
       "1            2024-05-01   1159.181818            0.821241   1411.500000\n",
       "2            2024-04-01   1409.200000            1.212424   1162.300000\n",
       "3            2024-03-01   1100.166667            0.747311   1472.166667"
      ]
     },
     "execution_count": null,
     "metadata": {},
     "output_type": "execute_result"
    }
   ],
   "source": [
    "monthly_adv_dec.head(4)"
   ]
  },
  {
   "cell_type": "markdown",
   "metadata": {},
   "source": [
    "## NSE Ratios"
   ]
  },
  {
   "cell_type": "markdown",
   "metadata": {},
   "source": [
    "1. **INDEX_NAME**: This column contains the name of the stock index. The stock index is a measurement of the performance of a section of the stock market. Examples of stock indices include the NSE Nifty, BSE Sensex, etc.\n",
    "\n",
    "2. **HistoricalDate**: This column provides the specific date for the historical data. It indicates the date on which the values for the OPEN, HIGH, LOW, and CLOSE prices were recorded.\n",
    "\n",
    "3. **OPEN**: This column shows the opening price of the index on the specified date. The opening price is the price at which the index first traded upon the opening of the trading day.\n",
    "\n",
    "4. **HIGH**: This column represents the highest price reached by the index during the trading day.\n",
    "\n",
    "5. **LOW**: This column denotes the lowest price reached by the index during the trading day.\n",
    "\n",
    "6. **CLOSE**: This column contains the closing price of the index on the specified date. The closing price is the last price at which the index traded when the market closed for the day."
   ]
  },
  {
   "cell_type": "code",
   "execution_count": 27,
   "metadata": {},
   "outputs": [
    {
     "data": {
      "text/html": [
       "<div>\n",
       "<style scoped>\n",
       "    .dataframe tbody tr th:only-of-type {\n",
       "        vertical-align: middle;\n",
       "    }\n",
       "\n",
       "    .dataframe tbody tr th {\n",
       "        vertical-align: top;\n",
       "    }\n",
       "\n",
       "    .dataframe thead th {\n",
       "        text-align: right;\n",
       "    }\n",
       "</style>\n",
       "<table border=\"1\" class=\"dataframe\">\n",
       "  <thead>\n",
       "    <tr style=\"text-align: right;\">\n",
       "      <th></th>\n",
       "      <th>INDEX_NAME</th>\n",
       "      <th>HistoricalDate</th>\n",
       "      <th>OPEN</th>\n",
       "      <th>HIGH</th>\n",
       "      <th>LOW</th>\n",
       "      <th>CLOSE</th>\n",
       "    </tr>\n",
       "  </thead>\n",
       "  <tbody>\n",
       "    <tr>\n",
       "      <th>0</th>\n",
       "      <td>Nifty 50</td>\n",
       "      <td>12 Jul 2024</td>\n",
       "      <td>24387.95</td>\n",
       "      <td>24592.20</td>\n",
       "      <td>24331.15</td>\n",
       "      <td>24502.15</td>\n",
       "    </tr>\n",
       "    <tr>\n",
       "      <th>1</th>\n",
       "      <td>Nifty 50</td>\n",
       "      <td>11 Jul 2024</td>\n",
       "      <td>24396.55</td>\n",
       "      <td>24402.65</td>\n",
       "      <td>24193.75</td>\n",
       "      <td>24315.95</td>\n",
       "    </tr>\n",
       "    <tr>\n",
       "      <th>2</th>\n",
       "      <td>Nifty 50</td>\n",
       "      <td>10 Jul 2024</td>\n",
       "      <td>24459.85</td>\n",
       "      <td>24461.05</td>\n",
       "      <td>24141.80</td>\n",
       "      <td>24324.45</td>\n",
       "    </tr>\n",
       "    <tr>\n",
       "      <th>3</th>\n",
       "      <td>Nifty 50</td>\n",
       "      <td>09 Jul 2024</td>\n",
       "      <td>24351.00</td>\n",
       "      <td>24443.60</td>\n",
       "      <td>24331.90</td>\n",
       "      <td>24433.20</td>\n",
       "    </tr>\n",
       "  </tbody>\n",
       "</table>\n",
       "</div>"
      ],
      "text/plain": [
       "  INDEX_NAME HistoricalDate      OPEN      HIGH       LOW     CLOSE\n",
       "0   Nifty 50    12 Jul 2024  24387.95  24592.20  24331.15  24502.15\n",
       "1   Nifty 50    11 Jul 2024  24396.55  24402.65  24193.75  24315.95\n",
       "2   Nifty 50    10 Jul 2024  24459.85  24461.05  24141.80  24324.45\n",
       "3   Nifty 50    09 Jul 2024  24351.00  24443.60  24331.90  24433.20"
      ]
     },
     "execution_count": null,
     "metadata": {},
     "output_type": "execute_result"
    }
   ],
   "source": [
    "nse_ratios = nse_ratios.drop(['RequestNumber', 'Index Name'], axis=1)\n",
    "nse_ratios.head(4)"
   ]
  },
  {
   "cell_type": "code",
   "execution_count": 28,
   "metadata": {},
   "outputs": [
    {
     "name": "stdout",
     "output_type": "stream",
     "text": [
      "<class 'pandas.core.frame.DataFrame'>\n",
      "RangeIndex: 44 entries, 0 to 43\n",
      "Data columns (total 6 columns):\n",
      " #   Column          Non-Null Count  Dtype  \n",
      "---  ------          --------------  -----  \n",
      " 0   INDEX_NAME      44 non-null     object \n",
      " 1   HistoricalDate  44 non-null     object \n",
      " 2   OPEN            44 non-null     float64\n",
      " 3   HIGH            44 non-null     float64\n",
      " 4   LOW             44 non-null     float64\n",
      " 5   CLOSE           44 non-null     float64\n",
      "dtypes: float64(4), object(2)\n",
      "memory usage: 2.2+ KB\n",
      "<class 'pandas.core.frame.DataFrame'>\n",
      "RangeIndex: 44 entries, 0 to 43\n",
      "Data columns (total 6 columns):\n",
      " #   Column          Non-Null Count  Dtype  \n",
      "---  ------          --------------  -----  \n",
      " 0   INDEX_NAME      44 non-null     object \n",
      " 1   HistoricalDate  44 non-null     object \n",
      " 2   OPEN            44 non-null     float64\n",
      " 3   HIGH            44 non-null     float64\n",
      " 4   LOW             44 non-null     float64\n",
      " 5   CLOSE           44 non-null     float64\n",
      "dtypes: float64(4), object(2)\n",
      "memory usage: 2.2+ KB\n"
     ]
    }
   ],
   "source": [
    "nse_ratios.info()"
   ]
  },
  {
   "cell_type": "markdown",
   "metadata": {},
   "source": [
    "Converting the datatype of `HistoricalDate` column to the correct datatype: `datetime`."
   ]
  },
  {
   "cell_type": "code",
   "execution_count": 29,
   "metadata": {},
   "outputs": [],
   "source": [
    "nse_ratios['HistoricalDate'] = pd.to_datetime(nse_ratios['HistoricalDate'])"
   ]
  },
  {
   "cell_type": "code",
   "execution_count": 30,
   "metadata": {},
   "outputs": [
    {
     "data": {
      "text/html": [
       "<div>\n",
       "<style scoped>\n",
       "    .dataframe tbody tr th:only-of-type {\n",
       "        vertical-align: middle;\n",
       "    }\n",
       "\n",
       "    .dataframe tbody tr th {\n",
       "        vertical-align: top;\n",
       "    }\n",
       "\n",
       "    .dataframe thead th {\n",
       "        text-align: right;\n",
       "    }\n",
       "</style>\n",
       "<table border=\"1\" class=\"dataframe\">\n",
       "  <thead>\n",
       "    <tr style=\"text-align: right;\">\n",
       "      <th></th>\n",
       "      <th>INDEX_NAME</th>\n",
       "      <th>HistoricalDate</th>\n",
       "      <th>OPEN</th>\n",
       "      <th>HIGH</th>\n",
       "      <th>LOW</th>\n",
       "      <th>CLOSE</th>\n",
       "    </tr>\n",
       "  </thead>\n",
       "  <tbody>\n",
       "    <tr>\n",
       "      <th>0</th>\n",
       "      <td>Nifty 50</td>\n",
       "      <td>2024-07-12</td>\n",
       "      <td>24387.95</td>\n",
       "      <td>24592.20</td>\n",
       "      <td>24331.15</td>\n",
       "      <td>24502.15</td>\n",
       "    </tr>\n",
       "    <tr>\n",
       "      <th>1</th>\n",
       "      <td>Nifty 50</td>\n",
       "      <td>2024-07-11</td>\n",
       "      <td>24396.55</td>\n",
       "      <td>24402.65</td>\n",
       "      <td>24193.75</td>\n",
       "      <td>24315.95</td>\n",
       "    </tr>\n",
       "    <tr>\n",
       "      <th>2</th>\n",
       "      <td>Nifty 50</td>\n",
       "      <td>2024-07-10</td>\n",
       "      <td>24459.85</td>\n",
       "      <td>24461.05</td>\n",
       "      <td>24141.80</td>\n",
       "      <td>24324.45</td>\n",
       "    </tr>\n",
       "    <tr>\n",
       "      <th>3</th>\n",
       "      <td>Nifty 50</td>\n",
       "      <td>2024-07-09</td>\n",
       "      <td>24351.00</td>\n",
       "      <td>24443.60</td>\n",
       "      <td>24331.90</td>\n",
       "      <td>24433.20</td>\n",
       "    </tr>\n",
       "  </tbody>\n",
       "</table>\n",
       "</div>"
      ],
      "text/plain": [
       "  INDEX_NAME HistoricalDate      OPEN      HIGH       LOW     CLOSE\n",
       "0   Nifty 50     2024-07-12  24387.95  24592.20  24331.15  24502.15\n",
       "1   Nifty 50     2024-07-11  24396.55  24402.65  24193.75  24315.95\n",
       "2   Nifty 50     2024-07-10  24459.85  24461.05  24141.80  24324.45\n",
       "3   Nifty 50     2024-07-09  24351.00  24443.60  24331.90  24433.20"
      ]
     },
     "execution_count": null,
     "metadata": {},
     "output_type": "execute_result"
    }
   ],
   "source": [
    "nse_ratios.head(4)"
   ]
  },
  {
   "cell_type": "markdown",
   "metadata": {},
   "source": [
    "## Short Selling Arch"
   ]
  },
  {
   "cell_type": "markdown",
   "metadata": {},
   "source": [
    "1. **SS_NAME**: The name of the stock or security that was short-sold.\n",
    "2. **SS_SYMBOL**: The stock symbol or ticker symbol representing the stock that was short-sold. This is typically a unique identifier for each stock.\n",
    "3. **SS_DATE**: The date on which the short-selling transaction took place.\n",
    "4. **SS_QTY**: The quantity of shares that were short-sold."
   ]
  },
  {
   "cell_type": "code",
   "execution_count": 31,
   "metadata": {},
   "outputs": [
    {
     "data": {
      "text/html": [
       "<div>\n",
       "<style scoped>\n",
       "    .dataframe tbody tr th:only-of-type {\n",
       "        vertical-align: middle;\n",
       "    }\n",
       "\n",
       "    .dataframe tbody tr th {\n",
       "        vertical-align: top;\n",
       "    }\n",
       "\n",
       "    .dataframe thead th {\n",
       "        text-align: right;\n",
       "    }\n",
       "</style>\n",
       "<table border=\"1\" class=\"dataframe\">\n",
       "  <thead>\n",
       "    <tr style=\"text-align: right;\">\n",
       "      <th></th>\n",
       "      <th>SS_NAME</th>\n",
       "      <th>SS_SYMBOL</th>\n",
       "      <th>SS_DATE</th>\n",
       "      <th>SS_QTY</th>\n",
       "    </tr>\n",
       "  </thead>\n",
       "  <tbody>\n",
       "    <tr>\n",
       "      <th>0</th>\n",
       "      <td>ASIAN PAINTS LIMITED</td>\n",
       "      <td>ASIANPAINT</td>\n",
       "      <td>15-Jul-2024</td>\n",
       "      <td>18200</td>\n",
       "    </tr>\n",
       "  </tbody>\n",
       "</table>\n",
       "</div>"
      ],
      "text/plain": [
       "                SS_NAME   SS_SYMBOL      SS_DATE  SS_QTY\n",
       "0  ASIAN PAINTS LIMITED  ASIANPAINT  15-Jul-2024   18200"
      ]
     },
     "execution_count": null,
     "metadata": {},
     "output_type": "execute_result"
    }
   ],
   "source": [
    "short_selling_arch = short_selling_arch.drop(['_id', 'TIMESTAMP', 'createdAt', 'updatedAt', 'mTIMESTAMP', '__v'], axis=1)\n",
    "\n",
    "short_selling_arch.head(4)"
   ]
  },
  {
   "cell_type": "markdown",
   "metadata": {},
   "source": [
    "Converting the datatype of `SS_DATE` column to the correct datatype: `datetime`."
   ]
  },
  {
   "cell_type": "code",
   "execution_count": 32,
   "metadata": {},
   "outputs": [],
   "source": [
    "short_selling_arch['SS_DATE'] = pd.to_datetime(short_selling_arch['SS_DATE'])"
   ]
  },
  {
   "cell_type": "code",
   "execution_count": 33,
   "metadata": {},
   "outputs": [
    {
     "data": {
      "text/html": [
       "<div>\n",
       "<style scoped>\n",
       "    .dataframe tbody tr th:only-of-type {\n",
       "        vertical-align: middle;\n",
       "    }\n",
       "\n",
       "    .dataframe tbody tr th {\n",
       "        vertical-align: top;\n",
       "    }\n",
       "\n",
       "    .dataframe thead th {\n",
       "        text-align: right;\n",
       "    }\n",
       "</style>\n",
       "<table border=\"1\" class=\"dataframe\">\n",
       "  <thead>\n",
       "    <tr style=\"text-align: right;\">\n",
       "      <th></th>\n",
       "      <th>SS_NAME</th>\n",
       "      <th>SS_SYMBOL</th>\n",
       "      <th>SS_DATE</th>\n",
       "      <th>SS_QTY</th>\n",
       "    </tr>\n",
       "  </thead>\n",
       "  <tbody>\n",
       "    <tr>\n",
       "      <th>0</th>\n",
       "      <td>ASIAN PAINTS LIMITED</td>\n",
       "      <td>ASIANPAINT</td>\n",
       "      <td>2024-07-15</td>\n",
       "      <td>18200</td>\n",
       "    </tr>\n",
       "  </tbody>\n",
       "</table>\n",
       "</div>"
      ],
      "text/plain": [
       "                SS_NAME   SS_SYMBOL    SS_DATE  SS_QTY\n",
       "0  ASIAN PAINTS LIMITED  ASIANPAINT 2024-07-15   18200"
      ]
     },
     "execution_count": null,
     "metadata": {},
     "output_type": "execute_result"
    }
   ],
   "source": [
    "short_selling_arch"
   ]
  },
  {
   "cell_type": "markdown",
   "metadata": {},
   "source": [
    "## Board Meetings"
   ]
  },
  {
   "cell_type": "markdown",
   "metadata": {},
   "source": [
    "Here is an explanation of each column in your NSE Board Meetings CSV file:\n",
    "\n",
    "1. **bm_symbol**: The stock ticker symbol representing the company holding the board meeting. It uniquely identifies the company's stock on the NSE (National Stock Exchange).\n",
    "\n",
    "2. **bm_date**: The date on which the board meeting took place.\n",
    "\n",
    "3. **bm_purpose**: The stated purpose or agenda of the board meeting. This might include topics such as financial results, dividends, mergers, or acquisitions.\n",
    "\n",
    "4. **bm_desc**: A detailed description of what was discussed or decided in the board meeting. This provides more context and specifics beyond the general purpose.\n",
    "\n",
    "5. **sm_industry**: The industry to which the company belongs. This categorizes the company within a specific sector of the economy.\n",
    "\n",
    "6. **bm_timestamp**: The exact date and time when the board meeting information was recorded or updated.\n",
    "\n",
    "7. **sm_name**: The name of the company holding the board meeting.\n",
    "\n",
    "These columns provide comprehensive details about board meetings, which can be useful for analyzing corporate governance, financial decisions, and industry trends."
   ]
  },
  {
   "cell_type": "code",
   "execution_count": 34,
   "metadata": {},
   "outputs": [
    {
     "data": {
      "text/html": [
       "<div>\n",
       "<style scoped>\n",
       "    .dataframe tbody tr th:only-of-type {\n",
       "        vertical-align: middle;\n",
       "    }\n",
       "\n",
       "    .dataframe tbody tr th {\n",
       "        vertical-align: top;\n",
       "    }\n",
       "\n",
       "    .dataframe thead th {\n",
       "        text-align: right;\n",
       "    }\n",
       "</style>\n",
       "<table border=\"1\" class=\"dataframe\">\n",
       "  <thead>\n",
       "    <tr style=\"text-align: right;\">\n",
       "      <th></th>\n",
       "      <th>bm_symbol</th>\n",
       "      <th>bm_date</th>\n",
       "      <th>bm_purpose</th>\n",
       "      <th>bm_desc</th>\n",
       "      <th>sm_indusrty</th>\n",
       "      <th>sm_name</th>\n",
       "    </tr>\n",
       "  </thead>\n",
       "  <tbody>\n",
       "    <tr>\n",
       "      <th>0</th>\n",
       "      <td>MARINE</td>\n",
       "      <td>24-Jul-2024</td>\n",
       "      <td>MARINE ELECTRICALS (INDIA) LIMITED has informe...</td>\n",
       "      <td>Board Meeting Intimation</td>\n",
       "      <td>-</td>\n",
       "      <td>Marine Electricals (India) Limited</td>\n",
       "    </tr>\n",
       "    <tr>\n",
       "      <th>1</th>\n",
       "      <td>ESAFSFB</td>\n",
       "      <td>26-Jul-2024</td>\n",
       "      <td>ESAF SMALL FINANCE BANK LIMITED has informed t...</td>\n",
       "      <td>Board Meeting Intimation</td>\n",
       "      <td>-</td>\n",
       "      <td>ESAF Small Finance Bank Limited</td>\n",
       "    </tr>\n",
       "    <tr>\n",
       "      <th>2</th>\n",
       "      <td>GLAND</td>\n",
       "      <td>06-Aug-2024</td>\n",
       "      <td>GLAND PHARMA LIMITED has informed the Exchange...</td>\n",
       "      <td>Board Meeting Intimation</td>\n",
       "      <td>-</td>\n",
       "      <td>Gland Pharma Limited</td>\n",
       "    </tr>\n",
       "    <tr>\n",
       "      <th>3</th>\n",
       "      <td>ESAFSFB</td>\n",
       "      <td>26-Jul-2024</td>\n",
       "      <td>Financial Results</td>\n",
       "      <td>To consider and approve the Unaudited Standalo...</td>\n",
       "      <td>-</td>\n",
       "      <td>ESAF Small Finance Bank Limited</td>\n",
       "    </tr>\n",
       "  </tbody>\n",
       "</table>\n",
       "</div>"
      ],
      "text/plain": [
       "  bm_symbol      bm_date  ... sm_indusrty                             sm_name\n",
       "0    MARINE  24-Jul-2024  ...           -  Marine Electricals (India) Limited\n",
       "1   ESAFSFB  26-Jul-2024  ...           -     ESAF Small Finance Bank Limited\n",
       "2     GLAND  06-Aug-2024  ...           -                Gland Pharma Limited\n",
       "3   ESAFSFB  26-Jul-2024  ...           -     ESAF Small Finance Bank Limited\n",
       "\n",
       "[4 rows x 6 columns]"
      ]
     },
     "execution_count": null,
     "metadata": {},
     "output_type": "execute_result"
    }
   ],
   "source": [
    "board_meetings = board_meetings.drop(['sm_isin', 'attachment', 'diff', 'sysTime', 'bm_timestamp'], axis=1)\n",
    "\n",
    "board_meetings.head(4)"
   ]
  },
  {
   "cell_type": "markdown",
   "metadata": {},
   "source": [
    "Converting the datatype of `bm_date` column to the correct datatype: `datetime`."
   ]
  },
  {
   "cell_type": "code",
   "execution_count": 35,
   "metadata": {},
   "outputs": [],
   "source": [
    "board_meetings['bm_date'] = pd.to_datetime(board_meetings['bm_date'])"
   ]
  },
  {
   "cell_type": "code",
   "execution_count": 36,
   "metadata": {},
   "outputs": [
    {
     "data": {
      "text/html": [
       "<div>\n",
       "<style scoped>\n",
       "    .dataframe tbody tr th:only-of-type {\n",
       "        vertical-align: middle;\n",
       "    }\n",
       "\n",
       "    .dataframe tbody tr th {\n",
       "        vertical-align: top;\n",
       "    }\n",
       "\n",
       "    .dataframe thead th {\n",
       "        text-align: right;\n",
       "    }\n",
       "</style>\n",
       "<table border=\"1\" class=\"dataframe\">\n",
       "  <thead>\n",
       "    <tr style=\"text-align: right;\">\n",
       "      <th></th>\n",
       "      <th>bm_symbol</th>\n",
       "      <th>bm_date</th>\n",
       "      <th>bm_purpose</th>\n",
       "      <th>bm_desc</th>\n",
       "      <th>sm_indusrty</th>\n",
       "      <th>sm_name</th>\n",
       "    </tr>\n",
       "  </thead>\n",
       "  <tbody>\n",
       "    <tr>\n",
       "      <th>0</th>\n",
       "      <td>MARINE</td>\n",
       "      <td>2024-07-24</td>\n",
       "      <td>MARINE ELECTRICALS (INDIA) LIMITED has informe...</td>\n",
       "      <td>Board Meeting Intimation</td>\n",
       "      <td>-</td>\n",
       "      <td>Marine Electricals (India) Limited</td>\n",
       "    </tr>\n",
       "    <tr>\n",
       "      <th>1</th>\n",
       "      <td>ESAFSFB</td>\n",
       "      <td>2024-07-26</td>\n",
       "      <td>ESAF SMALL FINANCE BANK LIMITED has informed t...</td>\n",
       "      <td>Board Meeting Intimation</td>\n",
       "      <td>-</td>\n",
       "      <td>ESAF Small Finance Bank Limited</td>\n",
       "    </tr>\n",
       "    <tr>\n",
       "      <th>2</th>\n",
       "      <td>GLAND</td>\n",
       "      <td>2024-08-06</td>\n",
       "      <td>GLAND PHARMA LIMITED has informed the Exchange...</td>\n",
       "      <td>Board Meeting Intimation</td>\n",
       "      <td>-</td>\n",
       "      <td>Gland Pharma Limited</td>\n",
       "    </tr>\n",
       "    <tr>\n",
       "      <th>3</th>\n",
       "      <td>ESAFSFB</td>\n",
       "      <td>2024-07-26</td>\n",
       "      <td>Financial Results</td>\n",
       "      <td>To consider and approve the Unaudited Standalo...</td>\n",
       "      <td>-</td>\n",
       "      <td>ESAF Small Finance Bank Limited</td>\n",
       "    </tr>\n",
       "  </tbody>\n",
       "</table>\n",
       "</div>"
      ],
      "text/plain": [
       "  bm_symbol    bm_date  ... sm_indusrty                             sm_name\n",
       "0    MARINE 2024-07-24  ...           -  Marine Electricals (India) Limited\n",
       "1   ESAFSFB 2024-07-26  ...           -     ESAF Small Finance Bank Limited\n",
       "2     GLAND 2024-08-06  ...           -                Gland Pharma Limited\n",
       "3   ESAFSFB 2024-07-26  ...           -     ESAF Small Finance Bank Limited\n",
       "\n",
       "[4 rows x 6 columns]"
      ]
     },
     "execution_count": null,
     "metadata": {},
     "output_type": "execute_result"
    }
   ],
   "source": [
    "board_meetings.head(4)"
   ]
  },
  {
   "cell_type": "code",
   "execution_count": 37,
   "metadata": {},
   "outputs": [
    {
     "data": {
      "text/plain": [
       "sm_indusrty\n",
       "-                               15\n",
       "Chemicals - Inorganic            2\n",
       "Telecommunication - Services     2\n",
       "Media & Entertainment            1\n",
       "Name: count, dtype: int64"
      ]
     },
     "execution_count": null,
     "metadata": {},
     "output_type": "execute_result"
    }
   ],
   "source": [
    "board_meetings['sm_indusrty'].value_counts()"
   ]
  },
  {
   "cell_type": "markdown",
   "metadata": {},
   "source": [
    "### Saving the processed files"
   ]
  },
  {
   "cell_type": "code",
   "execution_count": 39,
   "metadata": {},
   "outputs": [],
   "source": [
    "sec_arch.to_csv(\"../processed/sec_arch.csv\", index=False)\n",
    "block_deals_arch.to_csv(\"../processed/block_deals_arch.csv\", index=False)\n",
    "bulk_deals_arch.to_csv(\"../processed/bulk_deals_arch.csv\", index=False)\n",
    "monthly_adv_dec.to_csv(\"../processed/monthly_adv_dec.csv\", index=False)\n",
    "nse_ratios.to_csv(\"../processed/nse_ratios.csv\", index=False)\n",
    "short_selling_arch.to_csv(\"../processed/short_selling_arch.csv\", index=False)\n",
    "board_meetings.to_csv(\"../processed/board_meetings.csv\", index=False)"
   ]
  },
  {
   "cell_type": "code",
   "execution_count": 42,
   "metadata": {},
   "outputs": [],
   "source": [
    "board_meetings.to_csv(\"board_meetings.csv.gz\", compression='gzip')"
   ]
  },
  {
   "cell_type": "code",
   "execution_count": 40,
   "metadata": {},
   "outputs": [],
   "source": [
    "# import polars as pl"
   ]
  },
  {
   "cell_type": "code",
   "execution_count": 41,
   "metadata": {},
   "outputs": [],
   "source": [
    "# df = pl.read_csv(\"../processed/board_meetings.csv\")\n",
    "# df.write_parquet(file=\"../processed/board_meetings.parquet\",\n",
    "#                                 compression='snappy',\n",
    "#                                 partition_by='bm_date')"
   ]
  }
 ],
 "metadata": {
  "language_info": {
   "name": "python"
  }
 },
 "nbformat": 4,
 "nbformat_minor": 2
}
